{
 "cells": [
  {
   "cell_type": "code",
   "execution_count": 1,
   "id": "c58b611f",
   "metadata": {
    "execution": {
     "iopub.execute_input": "2022-11-13T12:34:12.092575Z",
     "iopub.status.busy": "2022-11-13T12:34:12.091579Z",
     "iopub.status.idle": "2022-11-13T12:34:18.839164Z",
     "shell.execute_reply": "2022-11-13T12:34:18.837700Z"
    },
    "papermill": {
     "duration": 6.756602,
     "end_time": "2022-11-13T12:34:18.841960",
     "exception": false,
     "start_time": "2022-11-13T12:34:12.085358",
     "status": "completed"
    },
    "tags": []
   },
   "outputs": [],
   "source": [
    "!cp -r \"../input/slices/T1_slices/T1_slices\" \"/kaggle/working\"\n",
    "!cp -r \"../input/slices/T2_slices/T2_slices\"  \"/kaggle/working\""
   ]
  },
  {
   "cell_type": "code",
   "execution_count": 2,
   "id": "0085febb",
   "metadata": {
    "execution": {
     "iopub.execute_input": "2022-11-13T12:34:18.851617Z",
     "iopub.status.busy": "2022-11-13T12:34:18.851278Z",
     "iopub.status.idle": "2022-11-13T12:34:27.088657Z",
     "shell.execute_reply": "2022-11-13T12:34:27.086642Z"
    },
    "papermill": {
     "duration": 8.2479,
     "end_time": "2022-11-13T12:34:27.094131",
     "exception": false,
     "start_time": "2022-11-13T12:34:18.846231",
     "status": "completed"
    },
    "tags": []
   },
   "outputs": [],
   "source": [
    "!cp  \"../input/updatedcheckpointssdp/discT1.pth.tar\"  \"/kaggle/working\"\n",
    "!cp  \"../input/updatedcheckpointssdp/discT2.pth.tar\"  \"/kaggle/working\"\n",
    "!cp  \"../input/updatedcheckpointssdp/genT1.pth.tar\"  \"/kaggle/working\"\n",
    "!cp  \"../input/updatedcheckpointssdp/genT2.pth.tar\"  \"/kaggle/working\""
   ]
  },
  {
   "cell_type": "markdown",
   "id": "aace8106",
   "metadata": {},
   "source": [
    "### Importing libraries,packages and modules"
   ]
  },
  {
   "cell_type": "code",
   "execution_count": 3,
   "id": "0782f04a",
   "metadata": {
    "execution": {
     "iopub.execute_input": "2022-11-13T12:34:27.126030Z",
     "iopub.status.busy": "2022-11-13T12:34:27.125455Z",
     "iopub.status.idle": "2022-11-13T12:34:30.313991Z",
     "shell.execute_reply": "2022-11-13T12:34:30.313019Z"
    },
    "papermill": {
     "duration": 3.20852,
     "end_time": "2022-11-13T12:34:30.316292",
     "exception": false,
     "start_time": "2022-11-13T12:34:27.107772",
     "status": "completed"
    },
    "tags": []
   },
   "outputs": [],
   "source": [
    "import torch\n",
    "import torch.nn as nn\n",
    "import torch.nn.functional as f\n",
    "import torchvision\n",
    "import torchvision.transforms as transforms\n",
    "import torch.optim as optim\n",
    "from PIL import Image\n",
    "import os\n",
    "from torch.utils.data import Dataset\n",
    "import numpy as np\n",
    "import nibabel as nib\n",
    "import nibabel as nib\n",
    "import skimage.transform as skTrans\n",
    "from torch.utils.data import DataLoader\n",
    "import matplotlib.pyplot as plt\n",
    "from PIL import Image\n",
    "import os\n",
    "from torch.utils.data import Dataset\n",
    "import numpy as np\n",
    "\n"
   ]
  },
  {
   "cell_type": "markdown",
   "id": "be4e5465",
   "metadata": {},
   "source": [
    "### Writing custom-dataset class and creating the instance for letting the python access our dataset"
   ]
  },
  {
   "cell_type": "code",
   "execution_count": 4,
   "id": "5892bb6b",
   "metadata": {
    "execution": {
     "iopub.execute_input": "2022-11-13T12:34:30.327240Z",
     "iopub.status.busy": "2022-11-13T12:34:30.325351Z",
     "iopub.status.idle": "2022-11-13T12:34:30.335526Z",
     "shell.execute_reply": "2022-11-13T12:34:30.334656Z"
    },
    "papermill": {
     "duration": 0.01726,
     "end_time": "2022-11-13T12:34:30.337657",
     "exception": false,
     "start_time": "2022-11-13T12:34:30.320397",
     "status": "completed"
    },
    "tags": []
   },
   "outputs": [],
   "source": [
    "class contrastNoncontrastDataset():\n",
    "    def __init__(self, root_T1, root_T2, transform=None):\n",
    "        self.root_T1 = root_T1\n",
    "        self.root_T2 = root_T2\n",
    "        self.transform = transform\n",
    "\n",
    "        self.T1_images = os.listdir(root_T1)\n",
    "        self.T2_images = os.listdir(root_T2)\n",
    "        self.length_dataset = max(len(self.T1_images), len(self.T2_images)) \n",
    "        self.T1_len = len(self.T1_images)\n",
    "        self.T2_len = len(self.T2_images)\n",
    "\n",
    "    def __len__(self):\n",
    "        return self.length_dataset\n",
    "\n",
    "    def __getitem__(self, index):\n",
    "        T1_img = self.T1_images[index % self.T1_len]\n",
    "        T2_img = self.T2_images[index % self.T2_len]\n",
    "\n",
    "        T1_path = os.path.join(self.root_T1, T1_img)\n",
    "        T2_path = os.path.join(self.root_T2, T2_img)\n",
    "        T1_img = Image.open(T1_path)\n",
    "        T2_img = Image.open(T2_path)\n",
    "        T1_img = T1_img.resize((200,200))\n",
    "        T2_img = T2_img.resize((200,200))\n",
    "        if self.transform:\n",
    "            T1_img = self.transform(T1_img)\n",
    "            T2_img = self.transform(T2_img)\n",
    "        \n",
    "\n",
    "        return T1_img.float()[1].view(1,200,200),T2_img.float()[1].view(1,200,200)"
   ]
  },
  {
   "cell_type": "markdown",
   "id": "f24a7916",
   "metadata": {},
   "source": [
    "### Class for conv and residual blocks "
   ]
  },
  {
   "cell_type": "code",
   "execution_count": 5,
   "id": "70c5109b",
   "metadata": {
    "execution": {
     "iopub.execute_input": "2022-11-13T12:34:30.346848Z",
     "iopub.status.busy": "2022-11-13T12:34:30.346242Z",
     "iopub.status.idle": "2022-11-13T12:34:30.354800Z",
     "shell.execute_reply": "2022-11-13T12:34:30.353960Z"
    },
    "papermill": {
     "duration": 0.015299,
     "end_time": "2022-11-13T12:34:30.356794",
     "exception": false,
     "start_time": "2022-11-13T12:34:30.341495",
     "status": "completed"
    },
    "tags": []
   },
   "outputs": [],
   "source": [
    "class ConvBlock(nn.Module):\n",
    "    def __init__(self, in_channels, out_channels, down=True, use_act=True, **kwargs):\n",
    "        super().__init__()\n",
    "        self.conv = nn.Sequential(\n",
    "            nn.Conv2d(in_channels, out_channels, padding_mode=\"reflect\", **kwargs)\n",
    "            if down\n",
    "            else nn.ConvTranspose2d(in_channels, out_channels, **kwargs),\n",
    "            nn.InstanceNorm2d(out_channels),\n",
    "            nn.ReLU(inplace=True) if use_act else nn.Identity()\n",
    "        )\n",
    "\n",
    "    def forward(self, x):\n",
    "        return self.conv(x)\n",
    "\n",
    "class ResidualBlock(nn.Module):\n",
    "    def __init__(self, channels):\n",
    "        super().__init__()\n",
    "        self.block = nn.Sequential(\n",
    "            ConvBlock(channels, channels, kernel_size=3, padding=1),\n",
    "            ConvBlock(channels, channels, use_act=False, kernel_size=3, padding=1),\n",
    "        )\n",
    "\n",
    "    def forward(self, x):\n",
    "        return x + self.block(x)"
   ]
  },
  {
   "cell_type": "markdown",
   "id": "4e1b087e",
   "metadata": {},
   "source": [
    "### Building the generator class by creating instances of conv and residual blocks"
   ]
  },
  {
   "cell_type": "code",
   "execution_count": 6,
   "id": "af2476d3",
   "metadata": {
    "execution": {
     "iopub.execute_input": "2022-11-13T12:34:30.365862Z",
     "iopub.status.busy": "2022-11-13T12:34:30.365261Z",
     "iopub.status.idle": "2022-11-13T12:34:30.375365Z",
     "shell.execute_reply": "2022-11-13T12:34:30.374558Z"
    },
    "papermill": {
     "duration": 0.016755,
     "end_time": "2022-11-13T12:34:30.377327",
     "exception": false,
     "start_time": "2022-11-13T12:34:30.360572",
     "status": "completed"
    },
    "tags": []
   },
   "outputs": [],
   "source": [
    "class Generator(nn.Module):\n",
    "    def __init__(self, img_channels=1, num_features = 64, num_residuals=9):\n",
    "        super().__init__()\n",
    "        self.initial = nn.Sequential(\n",
    "            nn.Conv2d(img_channels, num_features, kernel_size=7, stride=1, padding=3, padding_mode=\"reflect\"),\n",
    "            nn.InstanceNorm2d(num_features),\n",
    "            nn.ReLU(inplace=True),\n",
    "        )\n",
    "        self.down_blocks = nn.ModuleList(\n",
    "            [\n",
    "                ConvBlock(num_features, num_features*2, kernel_size=3, stride=2, padding=1),\n",
    "                ConvBlock(num_features*2, num_features*4, kernel_size=3, stride=2, padding=1),\n",
    "            ]\n",
    "        )\n",
    "        self.res_blocks = nn.Sequential(\n",
    "            *[ResidualBlock(num_features*4) for _ in range(num_residuals)]\n",
    "        )\n",
    "        self.up_blocks = nn.ModuleList(\n",
    "            [\n",
    "                ConvBlock(num_features*4, num_features*2, down=False, kernel_size=3, stride=2, padding=1, output_padding=1),\n",
    "                ConvBlock(num_features*2, num_features*1, down=False, kernel_size=3, stride=2, padding=1, output_padding=1),\n",
    "            ]\n",
    "        )\n",
    "\n",
    "        self.last = nn.Conv2d(num_features*1, img_channels, kernel_size=7, stride=1, padding=3, padding_mode=\"reflect\")\n",
    "\n",
    "    def forward(self, x):\n",
    "        x = self.initial(x)\n",
    "        for layer in self.down_blocks:\n",
    "            x = layer(x)\n",
    "        x = self.res_blocks(x)\n",
    "        for layer in self.up_blocks:\n",
    "            x = layer(x)\n",
    "        return torch.tanh(self.last(x))"
   ]
  },
  {
   "cell_type": "markdown",
   "id": "78eef95f",
   "metadata": {},
   "source": [
    "### Creating conv block and building the discriminator by creating instances"
   ]
  },
  {
   "cell_type": "code",
   "execution_count": 7,
   "id": "16809726",
   "metadata": {
    "execution": {
     "iopub.execute_input": "2022-11-13T12:34:30.386806Z",
     "iopub.status.busy": "2022-11-13T12:34:30.385818Z",
     "iopub.status.idle": "2022-11-13T12:34:30.395743Z",
     "shell.execute_reply": "2022-11-13T12:34:30.394864Z"
    },
    "papermill": {
     "duration": 0.016482,
     "end_time": "2022-11-13T12:34:30.397595",
     "exception": false,
     "start_time": "2022-11-13T12:34:30.381113",
     "status": "completed"
    },
    "tags": []
   },
   "outputs": [],
   "source": [
    "import torch\n",
    "import torch.nn as nn\n",
    "\n",
    "class Block(nn.Module):\n",
    "    def __init__(self, in_channels, out_channels, stride):\n",
    "        super().__init__()\n",
    "        self.conv = nn.Sequential(\n",
    "            nn.Conv2d(in_channels, out_channels, 4, stride, 1, bias=True, padding_mode=\"reflect\"),\n",
    "            nn.InstanceNorm2d(out_channels),\n",
    "            nn.LeakyReLU(0.2, inplace=True),\n",
    "        )\n",
    "\n",
    "    def forward(self, x):\n",
    "        return self.conv(x)\n",
    "\n",
    "\n",
    "class Discriminator(nn.Module):\n",
    "    def __init__(self, in_channels=1, features=[64,128,256,512]):\n",
    "        super().__init__()\n",
    "        self.initial = nn.Sequential(\n",
    "            nn.Conv2d(\n",
    "                in_channels,\n",
    "                features[0],\n",
    "                kernel_size=4,\n",
    "                stride=2,\n",
    "                padding=1,\n",
    "                padding_mode=\"reflect\",\n",
    "            ),\n",
    "            nn.LeakyReLU(0.2, inplace=True),\n",
    "        )\n",
    "\n",
    "        layers = []\n",
    "        in_channels = features[0]\n",
    "        for feature in features[1:]:\n",
    "            layers.append(Block(in_channels, feature, stride=1 if feature==features[-1] else 2))\n",
    "            in_channels = feature\n",
    "        layers.append(nn.Conv2d(in_channels, 1, kernel_size=7, stride=2, padding=1, padding_mode=\"reflect\"))\n",
    "        self.model = nn.Sequential(*layers)\n",
    "\n",
    "    def forward(self, x):\n",
    "        x = self.initial(x)\n",
    "        return torch.sigmoid(self.model(x))\n",
    "    \n"
   ]
  },
  {
   "cell_type": "markdown",
   "id": "514124c6",
   "metadata": {},
   "source": [
    "### Defining device, path to dataset, batch size, no of epochs and learning rates for generator and discriminator training and storing them in configuration variable"
   ]
  },
  {
   "cell_type": "code",
   "execution_count": 8,
   "id": "58e95964",
   "metadata": {
    "execution": {
     "iopub.execute_input": "2022-11-13T12:34:30.406538Z",
     "iopub.status.busy": "2022-11-13T12:34:30.405896Z",
     "iopub.status.idle": "2022-11-13T12:34:30.469341Z",
     "shell.execute_reply": "2022-11-13T12:34:30.468455Z"
    },
    "papermill": {
     "duration": 0.07007,
     "end_time": "2022-11-13T12:34:30.471420",
     "exception": false,
     "start_time": "2022-11-13T12:34:30.401350",
     "status": "completed"
    },
    "tags": []
   },
   "outputs": [],
   "source": [
    "device = \"cuda\" if torch.cuda.is_available() else \"cpu\"\n",
    "config = {\n",
    "    \"DEVICE\":device,\n",
    "    \"GENLR\":3e-4,\n",
    "    \"DISCLR\":3e-4,\n",
    "    \"EPOCHS\":100,\n",
    "    \"ROOT_T1\":\"./T1_slices/\",\n",
    "    \"ROOT_T2\":\"./T2_slices/\",\n",
    "    \"TRANSFORMS\":torchvision.transforms.ToTensor(),\n",
    "    \"BATCH_SIZE\":5\n",
    "}"
   ]
  },
  {
   "cell_type": "markdown",
   "id": "f21e0917",
   "metadata": {},
   "source": [
    "### Functions to save and load checkpoints during training"
   ]
  },
  {
   "cell_type": "code",
   "execution_count": 9,
   "id": "16557ee3",
   "metadata": {
    "execution": {
     "iopub.execute_input": "2022-11-13T12:34:30.481733Z",
     "iopub.status.busy": "2022-11-13T12:34:30.480170Z",
     "iopub.status.idle": "2022-11-13T12:34:30.488161Z",
     "shell.execute_reply": "2022-11-13T12:34:30.487331Z"
    },
    "papermill": {
     "duration": 0.014933,
     "end_time": "2022-11-13T12:34:30.490154",
     "exception": false,
     "start_time": "2022-11-13T12:34:30.475221",
     "status": "completed"
    },
    "tags": []
   },
   "outputs": [],
   "source": [
    "def save_checkpoint(model, optimizer, filename=\"my_checkpoint.pth.tar\"):\n",
    "    print(\"=> Saving checkpoint\")\n",
    "    checkpoint = {\n",
    "        \"state_dict\": model.state_dict(),\n",
    "        \"optimizer\": optimizer.state_dict(),\n",
    "    }\n",
    "    torch.save(checkpoint, filename)\n",
    "\n",
    "\n",
    "def load_checkpoint(checkpoint_file, model, optimizer, lr):\n",
    "    print(\"=> Loading checkpoint\")\n",
    "    checkpoint = torch.load(checkpoint_file, map_location=config[\"DEVICE\"])\n",
    "    model.load_state_dict(checkpoint[\"state_dict\"])\n",
    "    optimizer.load_state_dict(checkpoint[\"optimizer\"])\n",
    "\n",
    "   \n",
    "    for param_group in optimizer.param_groups:\n",
    "        param_group[\"lr\"] = lr\n",
    "def seed_everything(seed=42):\n",
    "    os.environ[\"PYTHONHASHSEED\"] = str(seed)\n",
    "    random.seed(seed)\n",
    "    np.random.seed(seed)\n",
    "    torch.manual_seed(seed)\n",
    "    torch.cuda.manual_seed(seed)\n",
    "    torch.cuda.manual_seed_all(seed)\n",
    "    torch.backends.cudnn.deterministic = True\n",
    "    torch.backends.cudnn.benchmark = False"
   ]
  },
  {
   "cell_type": "code",
   "execution_count": 10,
   "id": "1243ebcc",
   "metadata": {
    "execution": {
     "iopub.execute_input": "2022-11-13T12:34:30.499855Z",
     "iopub.status.busy": "2022-11-13T12:34:30.498449Z",
     "iopub.status.idle": "2022-11-13T12:34:31.489321Z",
     "shell.execute_reply": "2022-11-13T12:34:31.488047Z"
    },
    "papermill": {
     "duration": 0.998169,
     "end_time": "2022-11-13T12:34:31.492004",
     "exception": false,
     "start_time": "2022-11-13T12:34:30.493835",
     "status": "completed"
    },
    "tags": []
   },
   "outputs": [],
   "source": [
    "!mkdir saved_images"
   ]
  },
  {
   "cell_type": "markdown",
   "id": "59c7da33",
   "metadata": {},
   "source": [
    "### Training function"
   ]
  },
  {
   "cell_type": "code",
   "execution_count": 11,
   "id": "d9262e3c",
   "metadata": {
    "execution": {
     "iopub.execute_input": "2022-11-13T12:34:31.502005Z",
     "iopub.status.busy": "2022-11-13T12:34:31.501678Z",
     "iopub.status.idle": "2022-11-13T12:34:31.522394Z",
     "shell.execute_reply": "2022-11-13T12:34:31.521454Z"
    },
    "papermill": {
     "duration": 0.028568,
     "end_time": "2022-11-13T12:34:31.524620",
     "exception": false,
     "start_time": "2022-11-13T12:34:31.496052",
     "status": "completed"
    },
    "tags": []
   },
   "outputs": [],
   "source": [
    "\n",
    "\n",
    "import numpy as np\n",
    "import torch.nn as nn\n",
    "import torch.optim as optim\n",
    "from tqdm import tqdm\n",
    "from torchvision.utils import save_image\n",
    "\n",
    "\n",
    "\n",
    "\n",
    "def train_fn(discT1, discT2, genT2, genT1, train_loader, opt_disc, opt_gen,L1_Loss,Mse_Loss,curr_epoch):\n",
    "    t1_reals = 0\n",
    "    t1_fakes = 0\n",
    "   \n",
    "    for idx, (t1, t2) in enumerate(train_loader):\n",
    "        t2 = t2.to(config[\"DEVICE\"])\n",
    "        t1 = t1.to(config[\"DEVICE\"])\n",
    "        idx += 1\n",
    "        \n",
    "        ## Training discriminators \n",
    "        \n",
    "        \n",
    "        ## Training discriminator D(G(T2))      G(T1) --> Generator that takes T2 images as input and generates T1 images\n",
    "        fake_t1 = genT1(t2)       \n",
    "        D_t1_real = discT1(t1)    \n",
    "        D_t1_fake = discT1(fake_t1.detach())\n",
    "        t1_reals += D_t1_real.mean().item()\n",
    "        t1_fakes += D_t1_fake.mean().item()\n",
    "        D_LossT1_real = Mse_Loss(D_t1_real, torch.ones_like(D_t1_real))\n",
    "        D_LossT1_fake = Mse_Loss(D_t1_fake, torch.zeros_like(D_t1_fake))\n",
    "        D_LossT1 = D_LossT1_real + D_LossT1_fake\n",
    "        \n",
    "        ## Training discriminator D(G(T2))      G(T1) --> Generator that takes T1 images as input and generates T2 images\n",
    "        fake_t2 = genT2(t1)\n",
    "        D_t2_real = discT2(t2)\n",
    "        D_t2_fake = discT2(fake_t2.detach())\n",
    "        D_LossT2_real = Mse_Loss(D_t2_real, torch.ones_like(D_t2_real))\n",
    "        D_LossT2_fake = Mse_Loss(D_t2_fake, torch.zeros_like(D_t2_fake))\n",
    "        D_LossT2 = D_LossT2_real + D_LossT2_fake\n",
    "\n",
    "        ## Combing loss of both the discriminators\n",
    "        D_loss = (D_LossT1 + D_LossT2)/2\n",
    "        \n",
    "        \n",
    "        ## running back-prop and updating the parameters\n",
    "        opt_disc.zero_grad()\n",
    "        D_loss.backward()\n",
    "        opt_disc.step()\n",
    "        \n",
    "\n",
    "        \n",
    "       \n",
    "        ## Training generatos \n",
    "            \n",
    "        D_t1_fake = discT1(fake_t1)     #getting the output of descriminator D(G(T2)) by passing generated T1 images\n",
    "        D_t2_fake = discT2(fake_t2)     #getting the output of descriminator D(G(T1)) by passing generated T2 images\n",
    "        loss_G_t1 = Mse_Loss(D_t1_fake, torch.ones_like(D_t1_fake))  #Explicitly declaring the generated samples as real\n",
    "        loss_G_t2 = Mse_Loss(D_t2_fake, torch.ones_like(D_t2_fake))\n",
    "\n",
    "           \n",
    "        #Including cycle consistency in the network\n",
    "        \n",
    "        cycle_t2 = genT2(fake_t1)  ## generating T2 image by passing generated T1 image as argument to G(T1)\n",
    "        cycle_t1 = genT1(fake_t2)  ## generating T1 image by passing generated T2 image as argument to G(T2)\n",
    "        C_consistency_T2 = L1_Loss(t2, cycle_t2)  #Cycle consistency between t2->t1->t2 and t2\n",
    "        C_consistency_T1 = L1_Loss(t1, cycle_t1)   #Cycle consistency between  t1->t2->t1 and t1\n",
    "\n",
    "            \n",
    "        # Incorporating identity loss in both the generators\n",
    "        identity_t2 = genT2(t2)\n",
    "        identity_t1 = genT1(t1)\n",
    "        identity_t2_loss = L1_Loss(t2, identity_t2)\n",
    "        identity_t1_loss = L1_Loss(t1, identity_t1)\n",
    "\n",
    "        #summing up all the losses\n",
    "        G_loss = (\n",
    "                loss_G_t2\n",
    "                + loss_G_t1\n",
    "                + C_consistency_T2 * 10\n",
    "                + C_consistency_T1 * 10 \n",
    "                + identity_t1_loss \n",
    "                + identity_t2_loss \n",
    "            )\n",
    "        #Running backprop and updating the paramters\n",
    "        \n",
    "        opt_gen.zero_grad()\n",
    "        G_loss.backward()\n",
    "        opt_gen.step()\n",
    "        if idx % 100 == 0:\n",
    "            #save_image(fake_t1*0.5+0.5, f\"saved_images/t1_{idx}.png\")\n",
    "            save_image(fake_t2*0.5+0.5, f\"saved_images/t2_{idx}.png\")\n",
    "            print(f\" Epoch :  {curr_epoch+1:5}     batch: {idx*5}/{len(train_loader)*5}    T2 :- Generator loss: {loss_G_t2:10.4f}%     Descriminator loss : {D_loss:10.4f}% \")\n",
    "    return genT1,genT2,discT1,discT2\n",
    "\n",
    "\n",
    "\n",
    "def train_model(numepochs,checkpoints=False,saved_model_genT1=None,saved_model_genT2=None,saved_model_discT1=None,saved_model_discT2=None):\n",
    "    discT1 = Discriminator().to(config[\"DEVICE\"])\n",
    "    discT2 = Discriminator().to(config[\"DEVICE\"])\n",
    "    genT2  = Generator(img_channels=1, num_residuals=9).to(config[\"DEVICE\"])\n",
    "    genT1  = Generator(img_channels=1, num_residuals=9).to(config[\"DEVICE\"])\n",
    "    \n",
    "    opt_disc = optim.Adam(\n",
    "        list(discT1.parameters()) + list(discT2.parameters()),\n",
    "        lr=config[\"DISCLR\"],\n",
    "        betas=(0.5, 0.999),\n",
    "    )\n",
    "\n",
    "    opt_gen = optim.Adam(\n",
    "        list(genT2.parameters()) + list(genT1.parameters()),\n",
    "        lr=config[\"GENLR\"],\n",
    "        betas=(0.5, 0.999),\n",
    "    )\n",
    "    if checkpoints:\n",
    "        print(\"loading checkpoints\")\n",
    "        \n",
    "        load_checkpoint(\n",
    "          \"./genT1.pth.tar\"  , genT1, opt_gen, config[\"GENLR\"],\n",
    "        )\n",
    "        load_checkpoint(\n",
    "          \"./genT2.pth.tar\"  , genT2, opt_gen, config[\"GENLR\"],\n",
    "        )\n",
    "        load_checkpoint(\n",
    "             \"./discT1.pth.tar\"  , discT1, opt_disc, config[\"DISCLR\"],\n",
    "        )\n",
    "        load_checkpoint(\n",
    "             \"./discT2.pth.tar\"  , discT2, opt_disc, config[\"DISCLR\"],\n",
    "        )\n",
    "        \n",
    "\n",
    "       \n",
    "    L1_Loss = nn.L1Loss()\n",
    "    Mse_Loss = nn.MSELoss()\n",
    "\n",
    "    \n",
    "\n",
    "    dataset = contrastNoncontrastDataset(\n",
    "        root_T1 = config[\"ROOT_T1\"],root_T2 =config[\"ROOT_T2\"],transform = config[\"TRANSFORMS\"]\n",
    "    )\n",
    "    \n",
    "   \n",
    "    train_loader = DataLoader(\n",
    "        dataset,\n",
    "        batch_size=config[\"BATCH_SIZE\"],\n",
    "        shuffle=True,\n",
    "        \n",
    "    )\n",
    "    device = config[\"DEVICE\"]\n",
    "    print(f\"Training the model on {device}\") \n",
    "    for epoch in tqdm(range(numepochs)):\n",
    "        genT1,genT2,discT1,discT2 = train_fn(discT1, discT2, genT2, genT1, train_loader, opt_disc, opt_gen,L1_Loss,Mse_Loss,epoch)\n",
    "        save_checkpoint(genT1, opt_gen, filename=\"genT1.pth.tar\")\n",
    "        save_checkpoint(genT2, opt_gen, filename=\"genT2.pth.tar\")\n",
    "        \n",
    "        save_checkpoint(discT1, opt_disc, filename=\"discT1.pth.tar\")\n",
    "        save_checkpoint(discT2, opt_disc, filename=\"discT2.pth.tar\")\n",
    "    return genT1,genT2,discT1,discT2\n",
    "\n",
    "        \n",
    "    \n",
    "\n"
   ]
  },
  {
   "cell_type": "markdown",
   "id": "50870d2f",
   "metadata": {},
   "source": [
    "### Training!"
   ]
  },
  {
   "cell_type": "code",
   "execution_count": 12,
   "id": "a60f3bbc",
   "metadata": {
    "execution": {
     "iopub.execute_input": "2022-11-13T12:34:31.533193Z",
     "iopub.status.busy": "2022-11-13T12:34:31.532932Z",
     "iopub.status.idle": "2022-11-13T19:06:57.744648Z",
     "shell.execute_reply": "2022-11-13T19:06:57.743330Z"
    },
    "papermill": {
     "duration": 23546.22039,
     "end_time": "2022-11-13T19:06:57.748750",
     "exception": false,
     "start_time": "2022-11-13T12:34:31.528360",
     "status": "completed"
    },
    "tags": []
   },
   "outputs": [
    {
     "name": "stdout",
     "output_type": "stream",
     "text": [
      "Training the model on cuda\n"
     ]
    },
    {
     "name": "stderr",
     "output_type": "stream",
     "text": [
      "  0%|          | 0/100 [00:00<?, ?it/s]"
     ]
    },
    {
     "name": "stdout",
     "output_type": "stream",
     "text": [
      " Epoch :      1     batch: 500/1060    T2 :- Generator loss:     0.8768%     Descriminator loss :     0.3187% \n",
      " Epoch :      1     batch: 1000/1060    T2 :- Generator loss:     0.9893%     Descriminator loss :     0.3578% \n",
      "=> Saving checkpoint\n",
      "=> Saving checkpoint\n",
      "=> Saving checkpoint\n",
      "=> Saving checkpoint\n"
     ]
    },
    {
     "name": "stderr",
     "output_type": "stream",
     "text": [
      "  1%|          | 1/100 [04:01<6:37:51, 241.12s/it]"
     ]
    },
    {
     "name": "stdout",
     "output_type": "stream",
     "text": [
      " Epoch :      2     batch: 500/1060    T2 :- Generator loss:     0.9343%     Descriminator loss :     0.1703% \n",
      " Epoch :      2     batch: 1000/1060    T2 :- Generator loss:     0.4696%     Descriminator loss :     0.7250% \n",
      "=> Saving checkpoint\n",
      "=> Saving checkpoint\n",
      "=> Saving checkpoint\n",
      "=> Saving checkpoint\n"
     ]
    },
    {
     "name": "stderr",
     "output_type": "stream",
     "text": [
      "  2%|▏         | 2/100 [07:56<6:28:29, 237.85s/it]"
     ]
    },
    {
     "name": "stdout",
     "output_type": "stream",
     "text": [
      " Epoch :      3     batch: 500/1060    T2 :- Generator loss:     0.4723%     Descriminator loss :     0.5081% \n",
      " Epoch :      3     batch: 1000/1060    T2 :- Generator loss:     0.5531%     Descriminator loss :     0.4860% \n",
      "=> Saving checkpoint\n",
      "=> Saving checkpoint\n",
      "=> Saving checkpoint\n",
      "=> Saving checkpoint\n"
     ]
    },
    {
     "name": "stderr",
     "output_type": "stream",
     "text": [
      "  3%|▎         | 3/100 [11:51<6:22:38, 236.69s/it]"
     ]
    },
    {
     "name": "stdout",
     "output_type": "stream",
     "text": [
      " Epoch :      4     batch: 500/1060    T2 :- Generator loss:     0.5068%     Descriminator loss :     0.4965% \n",
      " Epoch :      4     batch: 1000/1060    T2 :- Generator loss:     0.3768%     Descriminator loss :     0.4822% \n",
      "=> Saving checkpoint\n",
      "=> Saving checkpoint\n"
     ]
    },
    {
     "name": "stderr",
     "output_type": "stream",
     "text": [
      "  4%|▍         | 4/100 [15:47<6:17:58, 236.24s/it]"
     ]
    },
    {
     "name": "stdout",
     "output_type": "stream",
     "text": [
      "=> Saving checkpoint\n",
      "=> Saving checkpoint\n",
      " Epoch :      5     batch: 500/1060    T2 :- Generator loss:     0.5516%     Descriminator loss :     0.4245% \n",
      " Epoch :      5     batch: 1000/1060    T2 :- Generator loss:     0.4190%     Descriminator loss :     0.5004% \n",
      "=> Saving checkpoint\n",
      "=> Saving checkpoint\n",
      "=> Saving checkpoint\n",
      "=> Saving checkpoint\n"
     ]
    },
    {
     "name": "stderr",
     "output_type": "stream",
     "text": [
      "  5%|▌         | 5/100 [19:42<6:13:32, 235.92s/it]"
     ]
    },
    {
     "name": "stdout",
     "output_type": "stream",
     "text": [
      " Epoch :      6     batch: 500/1060    T2 :- Generator loss:     0.3888%     Descriminator loss :     0.4713% \n",
      " Epoch :      6     batch: 1000/1060    T2 :- Generator loss:     0.4139%     Descriminator loss :     0.4985% \n",
      "=> Saving checkpoint\n",
      "=> Saving checkpoint\n",
      "=> Saving checkpoint\n",
      "=> Saving checkpoint\n"
     ]
    },
    {
     "name": "stderr",
     "output_type": "stream",
     "text": [
      "  6%|▌         | 6/100 [23:38<6:09:18, 235.73s/it]"
     ]
    },
    {
     "name": "stdout",
     "output_type": "stream",
     "text": [
      " Epoch :      7     batch: 500/1060    T2 :- Generator loss:     0.3609%     Descriminator loss :     0.4558% \n",
      " Epoch :      7     batch: 1000/1060    T2 :- Generator loss:     0.4436%     Descriminator loss :     0.4528% \n",
      "=> Saving checkpoint\n",
      "=> Saving checkpoint\n",
      "=> Saving checkpoint\n",
      "=> Saving checkpoint\n"
     ]
    },
    {
     "name": "stderr",
     "output_type": "stream",
     "text": [
      "  7%|▋         | 7/100 [27:33<6:05:21, 235.71s/it]"
     ]
    },
    {
     "name": "stdout",
     "output_type": "stream",
     "text": [
      " Epoch :      8     batch: 500/1060    T2 :- Generator loss:     0.5000%     Descriminator loss :     0.4014% \n",
      " Epoch :      8     batch: 1000/1060    T2 :- Generator loss:     0.5030%     Descriminator loss :     0.4965% \n",
      "=> Saving checkpoint\n",
      "=> Saving checkpoint\n",
      "=> Saving checkpoint\n",
      "=> Saving checkpoint\n"
     ]
    },
    {
     "name": "stderr",
     "output_type": "stream",
     "text": [
      "  8%|▊         | 8/100 [31:29<6:01:14, 235.59s/it]"
     ]
    },
    {
     "name": "stdout",
     "output_type": "stream",
     "text": [
      " Epoch :      9     batch: 500/1060    T2 :- Generator loss:     0.5243%     Descriminator loss :     0.4943% \n",
      " Epoch :      9     batch: 1000/1060    T2 :- Generator loss:     0.5956%     Descriminator loss :     0.4515% \n",
      "=> Saving checkpoint\n",
      "=> Saving checkpoint\n"
     ]
    },
    {
     "name": "stderr",
     "output_type": "stream",
     "text": [
      "  9%|▉         | 9/100 [35:24<5:57:15, 235.56s/it]"
     ]
    },
    {
     "name": "stdout",
     "output_type": "stream",
     "text": [
      "=> Saving checkpoint\n",
      "=> Saving checkpoint\n",
      " Epoch :     10     batch: 500/1060    T2 :- Generator loss:     0.6658%     Descriminator loss :     0.4646% \n",
      " Epoch :     10     batch: 1000/1060    T2 :- Generator loss:     0.6783%     Descriminator loss :     0.4041% \n",
      "=> Saving checkpoint\n",
      "=> Saving checkpoint\n",
      "=> Saving checkpoint\n",
      "=> Saving checkpoint\n"
     ]
    },
    {
     "name": "stderr",
     "output_type": "stream",
     "text": [
      " 10%|█         | 10/100 [39:20<5:53:13, 235.48s/it]"
     ]
    },
    {
     "name": "stdout",
     "output_type": "stream",
     "text": [
      " Epoch :     11     batch: 500/1060    T2 :- Generator loss:     0.5735%     Descriminator loss :     0.4533% \n",
      " Epoch :     11     batch: 1000/1060    T2 :- Generator loss:     0.5488%     Descriminator loss :     0.4133% \n",
      "=> Saving checkpoint\n",
      "=> Saving checkpoint\n",
      "=> Saving checkpoint\n",
      "=> Saving checkpoint\n"
     ]
    },
    {
     "name": "stderr",
     "output_type": "stream",
     "text": [
      " 11%|█         | 11/100 [43:15<5:49:12, 235.42s/it]"
     ]
    },
    {
     "name": "stdout",
     "output_type": "stream",
     "text": [
      " Epoch :     12     batch: 500/1060    T2 :- Generator loss:     0.5948%     Descriminator loss :     0.4354% \n",
      " Epoch :     12     batch: 1000/1060    T2 :- Generator loss:     0.6991%     Descriminator loss :     0.4173% \n",
      "=> Saving checkpoint\n",
      "=> Saving checkpoint\n",
      "=> Saving checkpoint\n",
      "=> Saving checkpoint\n"
     ]
    },
    {
     "name": "stderr",
     "output_type": "stream",
     "text": [
      " 12%|█▏        | 12/100 [47:10<5:45:13, 235.38s/it]"
     ]
    },
    {
     "name": "stdout",
     "output_type": "stream",
     "text": [
      " Epoch :     13     batch: 500/1060    T2 :- Generator loss:     0.7845%     Descriminator loss :     0.3406% \n",
      " Epoch :     13     batch: 1000/1060    T2 :- Generator loss:     0.6488%     Descriminator loss :     0.4196% \n",
      "=> Saving checkpoint\n",
      "=> Saving checkpoint\n"
     ]
    },
    {
     "name": "stderr",
     "output_type": "stream",
     "text": [
      " 13%|█▎        | 13/100 [51:05<5:41:15, 235.35s/it]"
     ]
    },
    {
     "name": "stdout",
     "output_type": "stream",
     "text": [
      "=> Saving checkpoint\n",
      "=> Saving checkpoint\n",
      " Epoch :     14     batch: 500/1060    T2 :- Generator loss:     0.8224%     Descriminator loss :     0.3326% \n",
      " Epoch :     14     batch: 1000/1060    T2 :- Generator loss:     0.6624%     Descriminator loss :     0.3248% \n",
      "=> Saving checkpoint\n",
      "=> Saving checkpoint\n",
      "=> Saving checkpoint\n",
      "=> Saving checkpoint\n"
     ]
    },
    {
     "name": "stderr",
     "output_type": "stream",
     "text": [
      " 14%|█▍        | 14/100 [55:01<5:37:20, 235.35s/it]"
     ]
    },
    {
     "name": "stdout",
     "output_type": "stream",
     "text": [
      " Epoch :     15     batch: 500/1060    T2 :- Generator loss:     0.7322%     Descriminator loss :     0.3216% \n",
      " Epoch :     15     batch: 1000/1060    T2 :- Generator loss:     0.6360%     Descriminator loss :     0.3834% \n",
      "=> Saving checkpoint\n",
      "=> Saving checkpoint\n",
      "=> Saving checkpoint\n",
      "=> Saving checkpoint\n"
     ]
    },
    {
     "name": "stderr",
     "output_type": "stream",
     "text": [
      " 15%|█▌        | 15/100 [58:56<5:33:24, 235.34s/it]"
     ]
    },
    {
     "name": "stdout",
     "output_type": "stream",
     "text": [
      " Epoch :     16     batch: 500/1060    T2 :- Generator loss:     0.6603%     Descriminator loss :     0.3652% \n",
      " Epoch :     16     batch: 1000/1060    T2 :- Generator loss:     0.8505%     Descriminator loss :     0.2955% \n",
      "=> Saving checkpoint\n",
      "=> Saving checkpoint\n"
     ]
    },
    {
     "name": "stderr",
     "output_type": "stream",
     "text": [
      " 16%|█▌        | 16/100 [1:02:51<5:29:28, 235.33s/it]"
     ]
    },
    {
     "name": "stdout",
     "output_type": "stream",
     "text": [
      "=> Saving checkpoint\n",
      "=> Saving checkpoint\n",
      " Epoch :     17     batch: 500/1060    T2 :- Generator loss:     0.8975%     Descriminator loss :     0.4132% \n",
      " Epoch :     17     batch: 1000/1060    T2 :- Generator loss:     0.7870%     Descriminator loss :     0.3155% \n",
      "=> Saving checkpoint\n",
      "=> Saving checkpoint\n",
      "=> Saving checkpoint\n",
      "=> Saving checkpoint\n"
     ]
    },
    {
     "name": "stderr",
     "output_type": "stream",
     "text": [
      " 17%|█▋        | 17/100 [1:06:47<5:25:34, 235.35s/it]"
     ]
    },
    {
     "name": "stdout",
     "output_type": "stream",
     "text": [
      " Epoch :     18     batch: 500/1060    T2 :- Generator loss:     0.4971%     Descriminator loss :     0.3206% \n",
      " Epoch :     18     batch: 1000/1060    T2 :- Generator loss:     0.8219%     Descriminator loss :     0.2175% \n",
      "=> Saving checkpoint\n",
      "=> Saving checkpoint\n",
      "=> Saving checkpoint\n",
      "=> Saving checkpoint\n"
     ]
    },
    {
     "name": "stderr",
     "output_type": "stream",
     "text": [
      " 18%|█▊        | 18/100 [1:10:42<5:21:37, 235.34s/it]"
     ]
    },
    {
     "name": "stdout",
     "output_type": "stream",
     "text": [
      " Epoch :     19     batch: 500/1060    T2 :- Generator loss:     0.8196%     Descriminator loss :     0.2638% \n",
      " Epoch :     19     batch: 1000/1060    T2 :- Generator loss:     0.7970%     Descriminator loss :     0.4074% \n",
      "=> Saving checkpoint\n",
      "=> Saving checkpoint\n",
      "=> Saving checkpoint\n",
      "=> Saving checkpoint\n"
     ]
    },
    {
     "name": "stderr",
     "output_type": "stream",
     "text": [
      " 19%|█▉        | 19/100 [1:14:37<5:17:42, 235.34s/it]"
     ]
    },
    {
     "name": "stdout",
     "output_type": "stream",
     "text": [
      " Epoch :     20     batch: 500/1060    T2 :- Generator loss:     0.8468%     Descriminator loss :     0.3348% \n",
      " Epoch :     20     batch: 1000/1060    T2 :- Generator loss:     0.8312%     Descriminator loss :     0.2620% \n",
      "=> Saving checkpoint\n",
      "=> Saving checkpoint\n",
      "=> Saving checkpoint\n",
      "=> Saving checkpoint\n"
     ]
    },
    {
     "name": "stderr",
     "output_type": "stream",
     "text": [
      " 20%|██        | 20/100 [1:18:33<5:13:46, 235.33s/it]"
     ]
    },
    {
     "name": "stdout",
     "output_type": "stream",
     "text": [
      " Epoch :     21     batch: 500/1060    T2 :- Generator loss:     0.7513%     Descriminator loss :     0.2359% \n",
      " Epoch :     21     batch: 1000/1060    T2 :- Generator loss:     0.9247%     Descriminator loss :     0.3064% \n",
      "=> Saving checkpoint\n",
      "=> Saving checkpoint\n",
      "=> Saving checkpoint\n",
      "=> Saving checkpoint\n"
     ]
    },
    {
     "name": "stderr",
     "output_type": "stream",
     "text": [
      " 21%|██        | 21/100 [1:22:28<5:09:50, 235.32s/it]"
     ]
    },
    {
     "name": "stdout",
     "output_type": "stream",
     "text": [
      " Epoch :     22     batch: 500/1060    T2 :- Generator loss:     0.8252%     Descriminator loss :     0.3006% \n",
      " Epoch :     22     batch: 1000/1060    T2 :- Generator loss:     0.8597%     Descriminator loss :     0.2891% \n",
      "=> Saving checkpoint\n",
      "=> Saving checkpoint\n",
      "=> Saving checkpoint\n",
      "=> Saving checkpoint\n"
     ]
    },
    {
     "name": "stderr",
     "output_type": "stream",
     "text": [
      " 22%|██▏       | 22/100 [1:26:24<5:06:09, 235.51s/it]"
     ]
    },
    {
     "name": "stdout",
     "output_type": "stream",
     "text": [
      " Epoch :     23     batch: 500/1060    T2 :- Generator loss:     0.8793%     Descriminator loss :     0.2282% \n",
      " Epoch :     23     batch: 1000/1060    T2 :- Generator loss:     0.9293%     Descriminator loss :     0.2613% \n",
      "=> Saving checkpoint\n",
      "=> Saving checkpoint\n",
      "=> Saving checkpoint\n",
      "=> Saving checkpoint\n"
     ]
    },
    {
     "name": "stderr",
     "output_type": "stream",
     "text": [
      " 23%|██▎       | 23/100 [1:30:19<5:02:09, 235.45s/it]"
     ]
    },
    {
     "name": "stdout",
     "output_type": "stream",
     "text": [
      " Epoch :     24     batch: 500/1060    T2 :- Generator loss:     0.8873%     Descriminator loss :     0.1951% \n",
      " Epoch :     24     batch: 1000/1060    T2 :- Generator loss:     0.8744%     Descriminator loss :     0.2153% \n",
      "=> Saving checkpoint\n",
      "=> Saving checkpoint\n",
      "=> Saving checkpoint\n",
      "=> Saving checkpoint\n"
     ]
    },
    {
     "name": "stderr",
     "output_type": "stream",
     "text": [
      " 24%|██▍       | 24/100 [1:34:15<4:58:12, 235.43s/it]"
     ]
    },
    {
     "name": "stdout",
     "output_type": "stream",
     "text": [
      " Epoch :     25     batch: 500/1060    T2 :- Generator loss:     0.8857%     Descriminator loss :     0.1991% \n",
      " Epoch :     25     batch: 1000/1060    T2 :- Generator loss:     0.9693%     Descriminator loss :     0.2609% \n",
      "=> Saving checkpoint\n",
      "=> Saving checkpoint\n",
      "=> Saving checkpoint\n",
      "=> Saving checkpoint\n"
     ]
    },
    {
     "name": "stderr",
     "output_type": "stream",
     "text": [
      " 25%|██▌       | 25/100 [1:38:10<4:54:15, 235.41s/it]"
     ]
    },
    {
     "name": "stdout",
     "output_type": "stream",
     "text": [
      " Epoch :     26     batch: 500/1060    T2 :- Generator loss:     0.9326%     Descriminator loss :     0.2276% \n",
      " Epoch :     26     batch: 1000/1060    T2 :- Generator loss:     0.9388%     Descriminator loss :     0.2225% \n",
      "=> Saving checkpoint\n",
      "=> Saving checkpoint\n",
      "=> Saving checkpoint\n",
      "=> Saving checkpoint\n"
     ]
    },
    {
     "name": "stderr",
     "output_type": "stream",
     "text": [
      " 26%|██▌       | 26/100 [1:42:05<4:50:18, 235.38s/it]"
     ]
    },
    {
     "name": "stdout",
     "output_type": "stream",
     "text": [
      " Epoch :     27     batch: 500/1060    T2 :- Generator loss:     0.8929%     Descriminator loss :     0.1325% \n",
      " Epoch :     27     batch: 1000/1060    T2 :- Generator loss:     0.9110%     Descriminator loss :     0.1566% \n",
      "=> Saving checkpoint\n",
      "=> Saving checkpoint\n",
      "=> Saving checkpoint\n",
      "=> Saving checkpoint\n"
     ]
    },
    {
     "name": "stderr",
     "output_type": "stream",
     "text": [
      " 27%|██▋       | 27/100 [1:46:01<4:46:23, 235.39s/it]"
     ]
    },
    {
     "name": "stdout",
     "output_type": "stream",
     "text": [
      " Epoch :     28     batch: 500/1060    T2 :- Generator loss:     0.9325%     Descriminator loss :     0.1429% \n",
      " Epoch :     28     batch: 1000/1060    T2 :- Generator loss:     0.9608%     Descriminator loss :     0.1523% \n",
      "=> Saving checkpoint\n",
      "=> Saving checkpoint\n",
      "=> Saving checkpoint\n",
      "=> Saving checkpoint\n"
     ]
    },
    {
     "name": "stderr",
     "output_type": "stream",
     "text": [
      " 28%|██▊       | 28/100 [1:49:56<4:42:26, 235.36s/it]"
     ]
    },
    {
     "name": "stdout",
     "output_type": "stream",
     "text": [
      " Epoch :     29     batch: 500/1060    T2 :- Generator loss:     0.9207%     Descriminator loss :     0.1505% \n",
      " Epoch :     29     batch: 1000/1060    T2 :- Generator loss:     0.9555%     Descriminator loss :     0.1720% \n",
      "=> Saving checkpoint\n",
      "=> Saving checkpoint\n",
      "=> Saving checkpoint\n",
      "=> Saving checkpoint\n"
     ]
    },
    {
     "name": "stderr",
     "output_type": "stream",
     "text": [
      " 29%|██▉       | 29/100 [1:53:51<4:38:30, 235.36s/it]"
     ]
    },
    {
     "name": "stdout",
     "output_type": "stream",
     "text": [
      " Epoch :     30     batch: 500/1060    T2 :- Generator loss:     0.8303%     Descriminator loss :     0.1725% \n",
      " Epoch :     30     batch: 1000/1060    T2 :- Generator loss:     0.9877%     Descriminator loss :     0.2010% \n",
      "=> Saving checkpoint\n",
      "=> Saving checkpoint\n",
      "=> Saving checkpoint\n",
      "=> Saving checkpoint\n"
     ]
    },
    {
     "name": "stderr",
     "output_type": "stream",
     "text": [
      " 30%|███       | 30/100 [1:57:47<4:34:33, 235.34s/it]"
     ]
    },
    {
     "name": "stdout",
     "output_type": "stream",
     "text": [
      " Epoch :     31     batch: 500/1060    T2 :- Generator loss:     0.9148%     Descriminator loss :     0.1248% \n",
      " Epoch :     31     batch: 1000/1060    T2 :- Generator loss:     0.9727%     Descriminator loss :     0.1811% \n",
      "=> Saving checkpoint\n",
      "=> Saving checkpoint\n",
      "=> Saving checkpoint\n",
      "=> Saving checkpoint\n"
     ]
    },
    {
     "name": "stderr",
     "output_type": "stream",
     "text": [
      " 31%|███       | 31/100 [2:01:42<4:30:37, 235.33s/it]"
     ]
    },
    {
     "name": "stdout",
     "output_type": "stream",
     "text": [
      " Epoch :     32     batch: 500/1060    T2 :- Generator loss:     0.9734%     Descriminator loss :     0.1440% \n",
      " Epoch :     32     batch: 1000/1060    T2 :- Generator loss:     0.9553%     Descriminator loss :     0.2022% \n",
      "=> Saving checkpoint\n",
      "=> Saving checkpoint\n",
      "=> Saving checkpoint\n",
      "=> Saving checkpoint\n"
     ]
    },
    {
     "name": "stderr",
     "output_type": "stream",
     "text": [
      " 32%|███▏      | 32/100 [2:05:38<4:26:45, 235.37s/it]"
     ]
    },
    {
     "name": "stdout",
     "output_type": "stream",
     "text": [
      " Epoch :     33     batch: 500/1060    T2 :- Generator loss:     0.9775%     Descriminator loss :     0.1530% \n",
      " Epoch :     33     batch: 1000/1060    T2 :- Generator loss:     0.9017%     Descriminator loss :     0.1249% \n",
      "=> Saving checkpoint\n",
      "=> Saving checkpoint\n",
      "=> Saving checkpoint\n",
      "=> Saving checkpoint\n"
     ]
    },
    {
     "name": "stderr",
     "output_type": "stream",
     "text": [
      " 33%|███▎      | 33/100 [2:09:33<4:22:48, 235.36s/it]"
     ]
    },
    {
     "name": "stdout",
     "output_type": "stream",
     "text": [
      " Epoch :     34     batch: 500/1060    T2 :- Generator loss:     0.9192%     Descriminator loss :     0.0986% \n",
      " Epoch :     34     batch: 1000/1060    T2 :- Generator loss:     0.9273%     Descriminator loss :     0.1001% \n",
      "=> Saving checkpoint\n",
      "=> Saving checkpoint\n",
      "=> Saving checkpoint\n",
      "=> Saving checkpoint\n"
     ]
    },
    {
     "name": "stderr",
     "output_type": "stream",
     "text": [
      " 34%|███▍      | 34/100 [2:13:28<4:18:52, 235.35s/it]"
     ]
    },
    {
     "name": "stdout",
     "output_type": "stream",
     "text": [
      " Epoch :     35     batch: 500/1060    T2 :- Generator loss:     0.9907%     Descriminator loss :     0.1586% \n",
      " Epoch :     35     batch: 1000/1060    T2 :- Generator loss:     0.9748%     Descriminator loss :     0.1295% \n",
      "=> Saving checkpoint\n",
      "=> Saving checkpoint\n",
      "=> Saving checkpoint\n",
      "=> Saving checkpoint\n"
     ]
    },
    {
     "name": "stderr",
     "output_type": "stream",
     "text": [
      " 35%|███▌      | 35/100 [2:17:23<4:14:57, 235.34s/it]"
     ]
    },
    {
     "name": "stdout",
     "output_type": "stream",
     "text": [
      " Epoch :     36     batch: 500/1060    T2 :- Generator loss:     0.9657%     Descriminator loss :     0.1623% \n",
      " Epoch :     36     batch: 1000/1060    T2 :- Generator loss:     0.9452%     Descriminator loss :     0.1376% \n",
      "=> Saving checkpoint\n",
      "=> Saving checkpoint\n",
      "=> Saving checkpoint\n",
      "=> Saving checkpoint\n"
     ]
    },
    {
     "name": "stderr",
     "output_type": "stream",
     "text": [
      " 36%|███▌      | 36/100 [2:21:19<4:11:01, 235.33s/it]"
     ]
    },
    {
     "name": "stdout",
     "output_type": "stream",
     "text": [
      " Epoch :     37     batch: 500/1060    T2 :- Generator loss:     0.9788%     Descriminator loss :     0.1746% \n",
      " Epoch :     37     batch: 1000/1060    T2 :- Generator loss:     0.9447%     Descriminator loss :     0.1159% \n",
      "=> Saving checkpoint\n",
      "=> Saving checkpoint\n",
      "=> Saving checkpoint\n",
      "=> Saving checkpoint\n"
     ]
    },
    {
     "name": "stderr",
     "output_type": "stream",
     "text": [
      " 37%|███▋      | 37/100 [2:25:14<4:07:09, 235.39s/it]"
     ]
    },
    {
     "name": "stdout",
     "output_type": "stream",
     "text": [
      " Epoch :     38     batch: 500/1060    T2 :- Generator loss:     0.9522%     Descriminator loss :     0.1162% \n",
      " Epoch :     38     batch: 1000/1060    T2 :- Generator loss:     0.9090%     Descriminator loss :     0.1309% \n",
      "=> Saving checkpoint\n",
      "=> Saving checkpoint\n",
      "=> Saving checkpoint\n",
      "=> Saving checkpoint\n"
     ]
    },
    {
     "name": "stderr",
     "output_type": "stream",
     "text": [
      " 38%|███▊      | 38/100 [2:29:10<4:03:12, 235.37s/it]"
     ]
    },
    {
     "name": "stdout",
     "output_type": "stream",
     "text": [
      " Epoch :     39     batch: 500/1060    T2 :- Generator loss:     0.9722%     Descriminator loss :     0.1504% \n",
      " Epoch :     39     batch: 1000/1060    T2 :- Generator loss:     0.9754%     Descriminator loss :     0.0947% \n",
      "=> Saving checkpoint\n",
      "=> Saving checkpoint\n",
      "=> Saving checkpoint\n",
      "=> Saving checkpoint\n"
     ]
    },
    {
     "name": "stderr",
     "output_type": "stream",
     "text": [
      " 39%|███▉      | 39/100 [2:33:05<3:59:17, 235.37s/it]"
     ]
    },
    {
     "name": "stdout",
     "output_type": "stream",
     "text": [
      " Epoch :     40     batch: 500/1060    T2 :- Generator loss:     0.8993%     Descriminator loss :     0.0928% \n",
      " Epoch :     40     batch: 1000/1060    T2 :- Generator loss:     0.9739%     Descriminator loss :     0.0982% \n",
      "=> Saving checkpoint\n",
      "=> Saving checkpoint\n",
      "=> Saving checkpoint\n",
      "=> Saving checkpoint\n"
     ]
    },
    {
     "name": "stderr",
     "output_type": "stream",
     "text": [
      " 40%|████      | 40/100 [2:37:00<3:55:20, 235.35s/it]"
     ]
    },
    {
     "name": "stdout",
     "output_type": "stream",
     "text": [
      " Epoch :     41     batch: 500/1060    T2 :- Generator loss:     0.9546%     Descriminator loss :     0.0877% \n",
      " Epoch :     41     batch: 1000/1060    T2 :- Generator loss:     0.9721%     Descriminator loss :     0.0896% \n",
      "=> Saving checkpoint\n",
      "=> Saving checkpoint\n",
      "=> Saving checkpoint\n",
      "=> Saving checkpoint\n"
     ]
    },
    {
     "name": "stderr",
     "output_type": "stream",
     "text": [
      " 41%|████      | 41/100 [2:40:56<3:51:31, 235.45s/it]"
     ]
    },
    {
     "name": "stdout",
     "output_type": "stream",
     "text": [
      " Epoch :     42     batch: 500/1060    T2 :- Generator loss:     0.8879%     Descriminator loss :     0.0787% \n",
      " Epoch :     42     batch: 1000/1060    T2 :- Generator loss:     0.9440%     Descriminator loss :     0.1384% \n",
      "=> Saving checkpoint\n",
      "=> Saving checkpoint\n",
      "=> Saving checkpoint\n",
      "=> Saving checkpoint\n"
     ]
    },
    {
     "name": "stderr",
     "output_type": "stream",
     "text": [
      " 42%|████▏     | 42/100 [2:44:51<3:47:36, 235.45s/it]"
     ]
    },
    {
     "name": "stdout",
     "output_type": "stream",
     "text": [
      " Epoch :     43     batch: 500/1060    T2 :- Generator loss:     0.9360%     Descriminator loss :     0.0764% \n",
      " Epoch :     43     batch: 1000/1060    T2 :- Generator loss:     0.9359%     Descriminator loss :     0.0685% \n",
      "=> Saving checkpoint\n",
      "=> Saving checkpoint\n",
      "=> Saving checkpoint\n",
      "=> Saving checkpoint\n"
     ]
    },
    {
     "name": "stderr",
     "output_type": "stream",
     "text": [
      " 43%|████▎     | 43/100 [2:48:47<3:43:38, 235.41s/it]"
     ]
    },
    {
     "name": "stdout",
     "output_type": "stream",
     "text": [
      " Epoch :     44     batch: 500/1060    T2 :- Generator loss:     0.9066%     Descriminator loss :     0.1183% \n",
      " Epoch :     44     batch: 1000/1060    T2 :- Generator loss:     0.9366%     Descriminator loss :     0.0738% \n",
      "=> Saving checkpoint\n",
      "=> Saving checkpoint\n",
      "=> Saving checkpoint\n",
      "=> Saving checkpoint\n"
     ]
    },
    {
     "name": "stderr",
     "output_type": "stream",
     "text": [
      " 44%|████▍     | 44/100 [2:52:42<3:39:41, 235.39s/it]"
     ]
    },
    {
     "name": "stdout",
     "output_type": "stream",
     "text": [
      " Epoch :     45     batch: 500/1060    T2 :- Generator loss:     0.9689%     Descriminator loss :     0.0777% \n",
      " Epoch :     45     batch: 1000/1060    T2 :- Generator loss:     0.9678%     Descriminator loss :     0.0837% \n",
      "=> Saving checkpoint\n",
      "=> Saving checkpoint\n",
      "=> Saving checkpoint\n",
      "=> Saving checkpoint\n"
     ]
    },
    {
     "name": "stderr",
     "output_type": "stream",
     "text": [
      " 45%|████▌     | 45/100 [2:56:37<3:35:45, 235.37s/it]"
     ]
    },
    {
     "name": "stdout",
     "output_type": "stream",
     "text": [
      " Epoch :     46     batch: 500/1060    T2 :- Generator loss:     0.9785%     Descriminator loss :     0.1288% \n",
      " Epoch :     46     batch: 1000/1060    T2 :- Generator loss:     0.9682%     Descriminator loss :     0.0914% \n",
      "=> Saving checkpoint\n",
      "=> Saving checkpoint\n",
      "=> Saving checkpoint\n",
      "=> Saving checkpoint\n"
     ]
    },
    {
     "name": "stderr",
     "output_type": "stream",
     "text": [
      " 46%|████▌     | 46/100 [3:00:33<3:31:48, 235.34s/it]"
     ]
    },
    {
     "name": "stdout",
     "output_type": "stream",
     "text": [
      " Epoch :     47     batch: 500/1060    T2 :- Generator loss:     0.9837%     Descriminator loss :     0.0616% \n",
      " Epoch :     47     batch: 1000/1060    T2 :- Generator loss:     0.9757%     Descriminator loss :     0.0987% \n",
      "=> Saving checkpoint\n",
      "=> Saving checkpoint\n",
      "=> Saving checkpoint\n",
      "=> Saving checkpoint\n"
     ]
    },
    {
     "name": "stderr",
     "output_type": "stream",
     "text": [
      " 47%|████▋     | 47/100 [3:04:28<3:27:55, 235.38s/it]"
     ]
    },
    {
     "name": "stdout",
     "output_type": "stream",
     "text": [
      " Epoch :     48     batch: 500/1060    T2 :- Generator loss:     0.9200%     Descriminator loss :     0.0731% \n",
      " Epoch :     48     batch: 1000/1060    T2 :- Generator loss:     0.9890%     Descriminator loss :     0.0740% \n",
      "=> Saving checkpoint\n",
      "=> Saving checkpoint\n",
      "=> Saving checkpoint\n",
      "=> Saving checkpoint\n"
     ]
    },
    {
     "name": "stderr",
     "output_type": "stream",
     "text": [
      " 48%|████▊     | 48/100 [3:08:24<3:23:59, 235.37s/it]"
     ]
    },
    {
     "name": "stdout",
     "output_type": "stream",
     "text": [
      " Epoch :     49     batch: 500/1060    T2 :- Generator loss:     0.9488%     Descriminator loss :     0.0670% \n",
      " Epoch :     49     batch: 1000/1060    T2 :- Generator loss:     0.9669%     Descriminator loss :     0.1224% \n",
      "=> Saving checkpoint\n",
      "=> Saving checkpoint\n",
      "=> Saving checkpoint\n",
      "=> Saving checkpoint\n"
     ]
    },
    {
     "name": "stderr",
     "output_type": "stream",
     "text": [
      " 49%|████▉     | 49/100 [3:12:19<3:20:03, 235.35s/it]"
     ]
    },
    {
     "name": "stdout",
     "output_type": "stream",
     "text": [
      " Epoch :     50     batch: 500/1060    T2 :- Generator loss:     0.9599%     Descriminator loss :     0.0493% \n",
      " Epoch :     50     batch: 1000/1060    T2 :- Generator loss:     0.9526%     Descriminator loss :     0.0750% \n",
      "=> Saving checkpoint\n",
      "=> Saving checkpoint\n",
      "=> Saving checkpoint\n",
      "=> Saving checkpoint\n"
     ]
    },
    {
     "name": "stderr",
     "output_type": "stream",
     "text": [
      " 50%|█████     | 50/100 [3:16:14<3:16:07, 235.35s/it]"
     ]
    },
    {
     "name": "stdout",
     "output_type": "stream",
     "text": [
      " Epoch :     51     batch: 500/1060    T2 :- Generator loss:     0.9862%     Descriminator loss :     0.0694% \n",
      " Epoch :     51     batch: 1000/1060    T2 :- Generator loss:     0.9686%     Descriminator loss :     0.0721% \n",
      "=> Saving checkpoint\n",
      "=> Saving checkpoint\n",
      "=> Saving checkpoint\n",
      "=> Saving checkpoint\n"
     ]
    },
    {
     "name": "stderr",
     "output_type": "stream",
     "text": [
      " 51%|█████     | 51/100 [3:20:09<3:12:11, 235.33s/it]"
     ]
    },
    {
     "name": "stdout",
     "output_type": "stream",
     "text": [
      " Epoch :     52     batch: 500/1060    T2 :- Generator loss:     0.9392%     Descriminator loss :     0.0874% \n",
      " Epoch :     52     batch: 1000/1060    T2 :- Generator loss:     0.8774%     Descriminator loss :     0.1065% \n",
      "=> Saving checkpoint\n",
      "=> Saving checkpoint\n",
      "=> Saving checkpoint\n",
      "=> Saving checkpoint\n"
     ]
    },
    {
     "name": "stderr",
     "output_type": "stream",
     "text": [
      " 52%|█████▏    | 52/100 [3:24:05<3:08:18, 235.38s/it]"
     ]
    },
    {
     "name": "stdout",
     "output_type": "stream",
     "text": [
      " Epoch :     53     batch: 500/1060    T2 :- Generator loss:     0.9449%     Descriminator loss :     0.0648% \n",
      " Epoch :     53     batch: 1000/1060    T2 :- Generator loss:     0.9493%     Descriminator loss :     0.0558% \n",
      "=> Saving checkpoint\n",
      "=> Saving checkpoint\n",
      "=> Saving checkpoint\n",
      "=> Saving checkpoint\n"
     ]
    },
    {
     "name": "stderr",
     "output_type": "stream",
     "text": [
      " 53%|█████▎    | 53/100 [3:28:00<3:04:22, 235.36s/it]"
     ]
    },
    {
     "name": "stdout",
     "output_type": "stream",
     "text": [
      " Epoch :     54     batch: 500/1060    T2 :- Generator loss:     0.9734%     Descriminator loss :     0.0677% \n",
      " Epoch :     54     batch: 1000/1060    T2 :- Generator loss:     0.9383%     Descriminator loss :     0.1250% \n",
      "=> Saving checkpoint\n",
      "=> Saving checkpoint\n",
      "=> Saving checkpoint\n",
      "=> Saving checkpoint\n"
     ]
    },
    {
     "name": "stderr",
     "output_type": "stream",
     "text": [
      " 54%|█████▍    | 54/100 [3:31:56<3:00:25, 235.34s/it]"
     ]
    },
    {
     "name": "stdout",
     "output_type": "stream",
     "text": [
      " Epoch :     55     batch: 500/1060    T2 :- Generator loss:     0.9869%     Descriminator loss :     0.0966% \n",
      " Epoch :     55     batch: 1000/1060    T2 :- Generator loss:     0.9876%     Descriminator loss :     0.0406% \n",
      "=> Saving checkpoint\n",
      "=> Saving checkpoint\n",
      "=> Saving checkpoint\n",
      "=> Saving checkpoint\n"
     ]
    },
    {
     "name": "stderr",
     "output_type": "stream",
     "text": [
      " 55%|█████▌    | 55/100 [3:35:51<2:56:29, 235.33s/it]"
     ]
    },
    {
     "name": "stdout",
     "output_type": "stream",
     "text": [
      " Epoch :     56     batch: 500/1060    T2 :- Generator loss:     0.9875%     Descriminator loss :     0.0596% \n",
      " Epoch :     56     batch: 1000/1060    T2 :- Generator loss:     0.9817%     Descriminator loss :     0.0476% \n",
      "=> Saving checkpoint\n",
      "=> Saving checkpoint\n",
      "=> Saving checkpoint\n",
      "=> Saving checkpoint\n"
     ]
    },
    {
     "name": "stderr",
     "output_type": "stream",
     "text": [
      " 56%|█████▌    | 56/100 [3:39:46<2:52:34, 235.32s/it]"
     ]
    },
    {
     "name": "stdout",
     "output_type": "stream",
     "text": [
      " Epoch :     57     batch: 500/1060    T2 :- Generator loss:     0.9811%     Descriminator loss :     0.0475% \n",
      " Epoch :     57     batch: 1000/1060    T2 :- Generator loss:     0.9809%     Descriminator loss :     0.1023% \n",
      "=> Saving checkpoint\n",
      "=> Saving checkpoint\n",
      "=> Saving checkpoint\n",
      "=> Saving checkpoint\n"
     ]
    },
    {
     "name": "stderr",
     "output_type": "stream",
     "text": [
      " 57%|█████▋    | 57/100 [3:43:42<2:48:39, 235.35s/it]"
     ]
    },
    {
     "name": "stdout",
     "output_type": "stream",
     "text": [
      " Epoch :     58     batch: 500/1060    T2 :- Generator loss:     0.9587%     Descriminator loss :     0.0933% \n",
      " Epoch :     58     batch: 1000/1060    T2 :- Generator loss:     0.9869%     Descriminator loss :     0.0556% \n",
      "=> Saving checkpoint\n",
      "=> Saving checkpoint\n",
      "=> Saving checkpoint\n",
      "=> Saving checkpoint\n"
     ]
    },
    {
     "name": "stderr",
     "output_type": "stream",
     "text": [
      " 58%|█████▊    | 58/100 [3:47:37<2:44:48, 235.44s/it]"
     ]
    },
    {
     "name": "stdout",
     "output_type": "stream",
     "text": [
      " Epoch :     59     batch: 500/1060    T2 :- Generator loss:     0.9728%     Descriminator loss :     0.0580% \n",
      " Epoch :     59     batch: 1000/1060    T2 :- Generator loss:     0.9872%     Descriminator loss :     0.0433% \n",
      "=> Saving checkpoint\n",
      "=> Saving checkpoint\n",
      "=> Saving checkpoint\n",
      "=> Saving checkpoint\n"
     ]
    },
    {
     "name": "stderr",
     "output_type": "stream",
     "text": [
      " 59%|█████▉    | 59/100 [3:51:33<2:40:51, 235.40s/it]"
     ]
    },
    {
     "name": "stdout",
     "output_type": "stream",
     "text": [
      " Epoch :     60     batch: 500/1060    T2 :- Generator loss:     0.9679%     Descriminator loss :     0.0568% \n",
      " Epoch :     60     batch: 1000/1060    T2 :- Generator loss:     0.9786%     Descriminator loss :     0.0539% \n",
      "=> Saving checkpoint\n",
      "=> Saving checkpoint\n",
      "=> Saving checkpoint\n",
      "=> Saving checkpoint\n"
     ]
    },
    {
     "name": "stderr",
     "output_type": "stream",
     "text": [
      " 60%|██████    | 60/100 [3:55:28<2:36:56, 235.40s/it]"
     ]
    },
    {
     "name": "stdout",
     "output_type": "stream",
     "text": [
      " Epoch :     61     batch: 500/1060    T2 :- Generator loss:     0.9931%     Descriminator loss :     0.0825% \n",
      " Epoch :     61     batch: 1000/1060    T2 :- Generator loss:     0.9981%     Descriminator loss :     0.0705% \n",
      "=> Saving checkpoint\n",
      "=> Saving checkpoint\n",
      "=> Saving checkpoint\n",
      "=> Saving checkpoint\n"
     ]
    },
    {
     "name": "stderr",
     "output_type": "stream",
     "text": [
      " 61%|██████    | 61/100 [3:59:23<2:32:59, 235.38s/it]"
     ]
    },
    {
     "name": "stdout",
     "output_type": "stream",
     "text": [
      " Epoch :     62     batch: 500/1060    T2 :- Generator loss:     0.9978%     Descriminator loss :     0.0812% \n",
      " Epoch :     62     batch: 1000/1060    T2 :- Generator loss:     0.9794%     Descriminator loss :     0.0706% \n",
      "=> Saving checkpoint\n",
      "=> Saving checkpoint\n",
      "=> Saving checkpoint\n",
      "=> Saving checkpoint\n"
     ]
    },
    {
     "name": "stderr",
     "output_type": "stream",
     "text": [
      " 62%|██████▏   | 62/100 [4:03:19<2:29:04, 235.39s/it]"
     ]
    },
    {
     "name": "stdout",
     "output_type": "stream",
     "text": [
      " Epoch :     63     batch: 500/1060    T2 :- Generator loss:     0.9663%     Descriminator loss :     0.0473% \n",
      " Epoch :     63     batch: 1000/1060    T2 :- Generator loss:     0.9989%     Descriminator loss :     0.0624% \n",
      "=> Saving checkpoint\n",
      "=> Saving checkpoint\n",
      "=> Saving checkpoint\n",
      "=> Saving checkpoint\n"
     ]
    },
    {
     "name": "stderr",
     "output_type": "stream",
     "text": [
      " 63%|██████▎   | 63/100 [4:07:14<2:25:08, 235.38s/it]"
     ]
    },
    {
     "name": "stdout",
     "output_type": "stream",
     "text": [
      " Epoch :     64     batch: 500/1060    T2 :- Generator loss:     0.9954%     Descriminator loss :     0.0384% \n",
      " Epoch :     64     batch: 1000/1060    T2 :- Generator loss:     0.9972%     Descriminator loss :     0.0595% \n",
      "=> Saving checkpoint\n",
      "=> Saving checkpoint\n",
      "=> Saving checkpoint\n",
      "=> Saving checkpoint\n"
     ]
    },
    {
     "name": "stderr",
     "output_type": "stream",
     "text": [
      " 64%|██████▍   | 64/100 [4:11:09<2:21:12, 235.35s/it]"
     ]
    },
    {
     "name": "stdout",
     "output_type": "stream",
     "text": [
      " Epoch :     65     batch: 500/1060    T2 :- Generator loss:     0.8956%     Descriminator loss :     0.0515% \n",
      " Epoch :     65     batch: 1000/1060    T2 :- Generator loss:     0.9936%     Descriminator loss :     0.0329% \n",
      "=> Saving checkpoint\n",
      "=> Saving checkpoint\n",
      "=> Saving checkpoint\n",
      "=> Saving checkpoint\n"
     ]
    },
    {
     "name": "stderr",
     "output_type": "stream",
     "text": [
      " 65%|██████▌   | 65/100 [4:15:05<2:17:16, 235.34s/it]"
     ]
    },
    {
     "name": "stdout",
     "output_type": "stream",
     "text": [
      " Epoch :     66     batch: 500/1060    T2 :- Generator loss:     0.9912%     Descriminator loss :     0.0401% \n",
      " Epoch :     66     batch: 1000/1060    T2 :- Generator loss:     0.9890%     Descriminator loss :     0.0443% \n",
      "=> Saving checkpoint\n",
      "=> Saving checkpoint\n",
      "=> Saving checkpoint\n",
      "=> Saving checkpoint\n"
     ]
    },
    {
     "name": "stderr",
     "output_type": "stream",
     "text": [
      " 66%|██████▌   | 66/100 [4:19:00<2:13:21, 235.33s/it]"
     ]
    },
    {
     "name": "stdout",
     "output_type": "stream",
     "text": [
      " Epoch :     67     batch: 500/1060    T2 :- Generator loss:     0.9268%     Descriminator loss :     0.0602% \n",
      " Epoch :     67     batch: 1000/1060    T2 :- Generator loss:     0.9890%     Descriminator loss :     0.0551% \n",
      "=> Saving checkpoint\n",
      "=> Saving checkpoint\n",
      "=> Saving checkpoint\n",
      "=> Saving checkpoint\n"
     ]
    },
    {
     "name": "stderr",
     "output_type": "stream",
     "text": [
      " 67%|██████▋   | 67/100 [4:22:55<2:09:26, 235.35s/it]"
     ]
    },
    {
     "name": "stdout",
     "output_type": "stream",
     "text": [
      " Epoch :     68     batch: 500/1060    T2 :- Generator loss:     0.9734%     Descriminator loss :     0.0419% \n",
      " Epoch :     68     batch: 1000/1060    T2 :- Generator loss:     0.9951%     Descriminator loss :     0.0650% \n",
      "=> Saving checkpoint\n",
      "=> Saving checkpoint\n",
      "=> Saving checkpoint\n",
      "=> Saving checkpoint\n"
     ]
    },
    {
     "name": "stderr",
     "output_type": "stream",
     "text": [
      " 68%|██████▊   | 68/100 [4:26:51<2:05:30, 235.34s/it]"
     ]
    },
    {
     "name": "stdout",
     "output_type": "stream",
     "text": [
      " Epoch :     69     batch: 500/1060    T2 :- Generator loss:     0.9833%     Descriminator loss :     0.0148% \n",
      " Epoch :     69     batch: 1000/1060    T2 :- Generator loss:     0.9888%     Descriminator loss :     0.0281% \n",
      "=> Saving checkpoint\n",
      "=> Saving checkpoint\n",
      "=> Saving checkpoint\n",
      "=> Saving checkpoint\n"
     ]
    },
    {
     "name": "stderr",
     "output_type": "stream",
     "text": [
      " 69%|██████▉   | 69/100 [4:30:46<2:01:35, 235.33s/it]"
     ]
    },
    {
     "name": "stdout",
     "output_type": "stream",
     "text": [
      " Epoch :     70     batch: 500/1060    T2 :- Generator loss:     0.8728%     Descriminator loss :     0.0759% \n",
      " Epoch :     70     batch: 1000/1060    T2 :- Generator loss:     0.9422%     Descriminator loss :     0.0300% \n",
      "=> Saving checkpoint\n",
      "=> Saving checkpoint\n",
      "=> Saving checkpoint\n",
      "=> Saving checkpoint\n"
     ]
    },
    {
     "name": "stderr",
     "output_type": "stream",
     "text": [
      " 70%|███████   | 70/100 [4:34:41<1:57:39, 235.32s/it]"
     ]
    },
    {
     "name": "stdout",
     "output_type": "stream",
     "text": [
      " Epoch :     71     batch: 500/1060    T2 :- Generator loss:     0.9858%     Descriminator loss :     0.0656% \n",
      " Epoch :     71     batch: 1000/1060    T2 :- Generator loss:     0.9946%     Descriminator loss :     0.0503% \n",
      "=> Saving checkpoint\n",
      "=> Saving checkpoint\n",
      "=> Saving checkpoint\n",
      "=> Saving checkpoint\n"
     ]
    },
    {
     "name": "stderr",
     "output_type": "stream",
     "text": [
      " 71%|███████   | 71/100 [4:38:37<1:53:44, 235.31s/it]"
     ]
    },
    {
     "name": "stdout",
     "output_type": "stream",
     "text": [
      " Epoch :     72     batch: 500/1060    T2 :- Generator loss:     0.9993%     Descriminator loss :     0.0453% \n",
      " Epoch :     72     batch: 1000/1060    T2 :- Generator loss:     0.9892%     Descriminator loss :     0.0541% \n",
      "=> Saving checkpoint\n",
      "=> Saving checkpoint\n",
      "=> Saving checkpoint\n",
      "=> Saving checkpoint\n"
     ]
    },
    {
     "name": "stderr",
     "output_type": "stream",
     "text": [
      " 72%|███████▏  | 72/100 [4:42:32<1:49:48, 235.32s/it]"
     ]
    },
    {
     "name": "stdout",
     "output_type": "stream",
     "text": [
      " Epoch :     73     batch: 500/1060    T2 :- Generator loss:     0.9981%     Descriminator loss :     0.0443% \n",
      " Epoch :     73     batch: 1000/1060    T2 :- Generator loss:     1.0000%     Descriminator loss :     0.1272% \n",
      "=> Saving checkpoint\n",
      "=> Saving checkpoint\n",
      "=> Saving checkpoint\n",
      "=> Saving checkpoint\n"
     ]
    },
    {
     "name": "stderr",
     "output_type": "stream",
     "text": [
      " 73%|███████▎  | 73/100 [4:46:27<1:45:53, 235.32s/it]"
     ]
    },
    {
     "name": "stdout",
     "output_type": "stream",
     "text": [
      " Epoch :     74     batch: 500/1060    T2 :- Generator loss:     0.9824%     Descriminator loss :     0.0321% \n",
      " Epoch :     74     batch: 1000/1060    T2 :- Generator loss:     0.9963%     Descriminator loss :     0.0358% \n",
      "=> Saving checkpoint\n",
      "=> Saving checkpoint\n",
      "=> Saving checkpoint\n",
      "=> Saving checkpoint\n"
     ]
    },
    {
     "name": "stderr",
     "output_type": "stream",
     "text": [
      " 74%|███████▍  | 74/100 [4:50:22<1:41:58, 235.31s/it]"
     ]
    },
    {
     "name": "stdout",
     "output_type": "stream",
     "text": [
      " Epoch :     75     batch: 500/1060    T2 :- Generator loss:     0.9900%     Descriminator loss :     0.0273% \n",
      " Epoch :     75     batch: 1000/1060    T2 :- Generator loss:     0.9847%     Descriminator loss :     0.0359% \n",
      "=> Saving checkpoint\n",
      "=> Saving checkpoint\n",
      "=> Saving checkpoint\n",
      "=> Saving checkpoint\n"
     ]
    },
    {
     "name": "stderr",
     "output_type": "stream",
     "text": [
      " 75%|███████▌  | 75/100 [4:54:18<1:38:03, 235.34s/it]"
     ]
    },
    {
     "name": "stdout",
     "output_type": "stream",
     "text": [
      " Epoch :     76     batch: 500/1060    T2 :- Generator loss:     0.9851%     Descriminator loss :     0.0219% \n",
      " Epoch :     76     batch: 1000/1060    T2 :- Generator loss:     0.9552%     Descriminator loss :     0.0496% \n",
      "=> Saving checkpoint\n",
      "=> Saving checkpoint\n",
      "=> Saving checkpoint\n",
      "=> Saving checkpoint\n"
     ]
    },
    {
     "name": "stderr",
     "output_type": "stream",
     "text": [
      " 76%|███████▌  | 76/100 [4:58:13<1:34:08, 235.33s/it]"
     ]
    },
    {
     "name": "stdout",
     "output_type": "stream",
     "text": [
      " Epoch :     77     batch: 500/1060    T2 :- Generator loss:     0.9920%     Descriminator loss :     0.0269% \n",
      " Epoch :     77     batch: 1000/1060    T2 :- Generator loss:     0.9952%     Descriminator loss :     0.0442% \n",
      "=> Saving checkpoint\n",
      "=> Saving checkpoint\n",
      "=> Saving checkpoint\n",
      "=> Saving checkpoint\n"
     ]
    },
    {
     "name": "stderr",
     "output_type": "stream",
     "text": [
      " 77%|███████▋  | 77/100 [5:02:09<1:30:15, 235.45s/it]"
     ]
    },
    {
     "name": "stdout",
     "output_type": "stream",
     "text": [
      " Epoch :     78     batch: 500/1060    T2 :- Generator loss:     0.9907%     Descriminator loss :     0.0453% \n",
      " Epoch :     78     batch: 1000/1060    T2 :- Generator loss:     0.9941%     Descriminator loss :     0.0343% \n",
      "=> Saving checkpoint\n",
      "=> Saving checkpoint\n",
      "=> Saving checkpoint\n",
      "=> Saving checkpoint\n"
     ]
    },
    {
     "name": "stderr",
     "output_type": "stream",
     "text": [
      " 78%|███████▊  | 78/100 [5:06:04<1:26:19, 235.43s/it]"
     ]
    },
    {
     "name": "stdout",
     "output_type": "stream",
     "text": [
      " Epoch :     79     batch: 500/1060    T2 :- Generator loss:     0.9943%     Descriminator loss :     0.0251% \n",
      " Epoch :     79     batch: 1000/1060    T2 :- Generator loss:     0.9990%     Descriminator loss :     0.0709% \n",
      "=> Saving checkpoint\n",
      "=> Saving checkpoint\n",
      "=> Saving checkpoint\n",
      "=> Saving checkpoint\n"
     ]
    },
    {
     "name": "stderr",
     "output_type": "stream",
     "text": [
      " 79%|███████▉  | 79/100 [5:10:00<1:22:23, 235.41s/it]"
     ]
    },
    {
     "name": "stdout",
     "output_type": "stream",
     "text": [
      " Epoch :     80     batch: 500/1060    T2 :- Generator loss:     0.9857%     Descriminator loss :     0.0259% \n",
      " Epoch :     80     batch: 1000/1060    T2 :- Generator loss:     0.9957%     Descriminator loss :     0.0262% \n",
      "=> Saving checkpoint\n",
      "=> Saving checkpoint\n",
      "=> Saving checkpoint\n",
      "=> Saving checkpoint\n"
     ]
    },
    {
     "name": "stderr",
     "output_type": "stream",
     "text": [
      " 80%|████████  | 80/100 [5:13:55<1:18:27, 235.39s/it]"
     ]
    },
    {
     "name": "stdout",
     "output_type": "stream",
     "text": [
      " Epoch :     81     batch: 500/1060    T2 :- Generator loss:     0.9821%     Descriminator loss :     0.0695% \n",
      " Epoch :     81     batch: 1000/1060    T2 :- Generator loss:     0.9781%     Descriminator loss :     0.0255% \n",
      "=> Saving checkpoint\n",
      "=> Saving checkpoint\n",
      "=> Saving checkpoint\n",
      "=> Saving checkpoint\n"
     ]
    },
    {
     "name": "stderr",
     "output_type": "stream",
     "text": [
      " 81%|████████  | 81/100 [5:17:50<1:14:31, 235.37s/it]"
     ]
    },
    {
     "name": "stdout",
     "output_type": "stream",
     "text": [
      " Epoch :     82     batch: 500/1060    T2 :- Generator loss:     0.9909%     Descriminator loss :     0.0218% \n",
      " Epoch :     82     batch: 1000/1060    T2 :- Generator loss:     0.9846%     Descriminator loss :     0.0211% \n",
      "=> Saving checkpoint\n",
      "=> Saving checkpoint\n",
      "=> Saving checkpoint\n",
      "=> Saving checkpoint\n"
     ]
    },
    {
     "name": "stderr",
     "output_type": "stream",
     "text": [
      " 82%|████████▏ | 82/100 [5:21:46<1:10:36, 235.35s/it]"
     ]
    },
    {
     "name": "stdout",
     "output_type": "stream",
     "text": [
      " Epoch :     83     batch: 500/1060    T2 :- Generator loss:     0.9985%     Descriminator loss :     0.0459% \n",
      " Epoch :     83     batch: 1000/1060    T2 :- Generator loss:     0.9937%     Descriminator loss :     0.0317% \n",
      "=> Saving checkpoint\n",
      "=> Saving checkpoint\n",
      "=> Saving checkpoint\n",
      "=> Saving checkpoint\n"
     ]
    },
    {
     "name": "stderr",
     "output_type": "stream",
     "text": [
      " 83%|████████▎ | 83/100 [5:25:41<1:06:40, 235.35s/it]"
     ]
    },
    {
     "name": "stdout",
     "output_type": "stream",
     "text": [
      " Epoch :     84     batch: 500/1060    T2 :- Generator loss:     0.9947%     Descriminator loss :     0.0135% \n",
      " Epoch :     84     batch: 1000/1060    T2 :- Generator loss:     0.9827%     Descriminator loss :     0.0198% \n",
      "=> Saving checkpoint\n",
      "=> Saving checkpoint\n",
      "=> Saving checkpoint\n",
      "=> Saving checkpoint\n"
     ]
    },
    {
     "name": "stderr",
     "output_type": "stream",
     "text": [
      " 84%|████████▍ | 84/100 [5:29:36<1:02:45, 235.33s/it]"
     ]
    },
    {
     "name": "stdout",
     "output_type": "stream",
     "text": [
      " Epoch :     85     batch: 500/1060    T2 :- Generator loss:     0.9967%     Descriminator loss :     0.0248% \n",
      " Epoch :     85     batch: 1000/1060    T2 :- Generator loss:     0.9921%     Descriminator loss :     0.0374% \n",
      "=> Saving checkpoint\n",
      "=> Saving checkpoint\n",
      "=> Saving checkpoint\n",
      "=> Saving checkpoint\n"
     ]
    },
    {
     "name": "stderr",
     "output_type": "stream",
     "text": [
      " 85%|████████▌ | 85/100 [5:33:32<58:50, 235.36s/it]  "
     ]
    },
    {
     "name": "stdout",
     "output_type": "stream",
     "text": [
      " Epoch :     86     batch: 500/1060    T2 :- Generator loss:     0.9976%     Descriminator loss :     0.0701% \n",
      " Epoch :     86     batch: 1000/1060    T2 :- Generator loss:     0.9987%     Descriminator loss :     0.0846% \n",
      "=> Saving checkpoint\n",
      "=> Saving checkpoint\n",
      "=> Saving checkpoint\n",
      "=> Saving checkpoint\n"
     ]
    },
    {
     "name": "stderr",
     "output_type": "stream",
     "text": [
      " 86%|████████▌ | 86/100 [5:37:27<54:54, 235.35s/it]"
     ]
    },
    {
     "name": "stdout",
     "output_type": "stream",
     "text": [
      " Epoch :     87     batch: 500/1060    T2 :- Generator loss:     0.9930%     Descriminator loss :     0.0185% \n",
      " Epoch :     87     batch: 1000/1060    T2 :- Generator loss:     0.9856%     Descriminator loss :     0.0230% \n",
      "=> Saving checkpoint\n",
      "=> Saving checkpoint\n",
      "=> Saving checkpoint\n",
      "=> Saving checkpoint\n"
     ]
    },
    {
     "name": "stderr",
     "output_type": "stream",
     "text": [
      " 87%|████████▋ | 87/100 [5:41:22<50:59, 235.34s/it]"
     ]
    },
    {
     "name": "stdout",
     "output_type": "stream",
     "text": [
      " Epoch :     88     batch: 500/1060    T2 :- Generator loss:     0.9920%     Descriminator loss :     0.0171% \n",
      " Epoch :     88     batch: 1000/1060    T2 :- Generator loss:     0.9949%     Descriminator loss :     0.0257% \n",
      "=> Saving checkpoint\n",
      "=> Saving checkpoint\n",
      "=> Saving checkpoint\n",
      "=> Saving checkpoint\n"
     ]
    },
    {
     "name": "stderr",
     "output_type": "stream",
     "text": [
      " 88%|████████▊ | 88/100 [5:45:18<47:03, 235.33s/it]"
     ]
    },
    {
     "name": "stdout",
     "output_type": "stream",
     "text": [
      " Epoch :     89     batch: 500/1060    T2 :- Generator loss:     0.9925%     Descriminator loss :     0.0233% \n",
      " Epoch :     89     batch: 1000/1060    T2 :- Generator loss:     0.9898%     Descriminator loss :     0.0206% \n",
      "=> Saving checkpoint\n",
      "=> Saving checkpoint\n",
      "=> Saving checkpoint\n",
      "=> Saving checkpoint\n"
     ]
    },
    {
     "name": "stderr",
     "output_type": "stream",
     "text": [
      " 89%|████████▉ | 89/100 [5:49:13<43:08, 235.32s/it]"
     ]
    },
    {
     "name": "stdout",
     "output_type": "stream",
     "text": [
      " Epoch :     90     batch: 500/1060    T2 :- Generator loss:     0.9968%     Descriminator loss :     0.0124% \n",
      " Epoch :     90     batch: 1000/1060    T2 :- Generator loss:     0.9957%     Descriminator loss :     0.0112% \n",
      "=> Saving checkpoint\n",
      "=> Saving checkpoint\n",
      "=> Saving checkpoint\n",
      "=> Saving checkpoint\n"
     ]
    },
    {
     "name": "stderr",
     "output_type": "stream",
     "text": [
      " 90%|█████████ | 90/100 [5:53:09<39:13, 235.39s/it]"
     ]
    },
    {
     "name": "stdout",
     "output_type": "stream",
     "text": [
      " Epoch :     91     batch: 500/1060    T2 :- Generator loss:     0.9889%     Descriminator loss :     0.0314% \n",
      " Epoch :     91     batch: 1000/1060    T2 :- Generator loss:     0.9933%     Descriminator loss :     0.0165% \n",
      "=> Saving checkpoint\n",
      "=> Saving checkpoint\n",
      "=> Saving checkpoint\n",
      "=> Saving checkpoint\n"
     ]
    },
    {
     "name": "stderr",
     "output_type": "stream",
     "text": [
      " 91%|█████████ | 91/100 [5:57:04<35:18, 235.37s/it]"
     ]
    },
    {
     "name": "stdout",
     "output_type": "stream",
     "text": [
      " Epoch :     92     batch: 500/1060    T2 :- Generator loss:     0.9995%     Descriminator loss :     0.0157% \n",
      " Epoch :     92     batch: 1000/1060    T2 :- Generator loss:     0.9961%     Descriminator loss :     0.0264% \n",
      "=> Saving checkpoint\n",
      "=> Saving checkpoint\n",
      "=> Saving checkpoint\n",
      "=> Saving checkpoint\n"
     ]
    },
    {
     "name": "stderr",
     "output_type": "stream",
     "text": [
      " 92%|█████████▏| 92/100 [6:00:59<31:22, 235.35s/it]"
     ]
    },
    {
     "name": "stdout",
     "output_type": "stream",
     "text": [
      " Epoch :     93     batch: 500/1060    T2 :- Generator loss:     0.9957%     Descriminator loss :     0.0367% \n",
      " Epoch :     93     batch: 1000/1060    T2 :- Generator loss:     0.9989%     Descriminator loss :     0.0165% \n",
      "=> Saving checkpoint\n",
      "=> Saving checkpoint\n",
      "=> Saving checkpoint\n",
      "=> Saving checkpoint\n"
     ]
    },
    {
     "name": "stderr",
     "output_type": "stream",
     "text": [
      " 93%|█████████▎| 93/100 [6:04:54<27:27, 235.34s/it]"
     ]
    },
    {
     "name": "stdout",
     "output_type": "stream",
     "text": [
      " Epoch :     94     batch: 500/1060    T2 :- Generator loss:     0.9974%     Descriminator loss :     0.0190% \n",
      " Epoch :     94     batch: 1000/1060    T2 :- Generator loss:     0.9931%     Descriminator loss :     0.0478% \n",
      "=> Saving checkpoint\n",
      "=> Saving checkpoint\n",
      "=> Saving checkpoint\n",
      "=> Saving checkpoint\n"
     ]
    },
    {
     "name": "stderr",
     "output_type": "stream",
     "text": [
      " 94%|█████████▍| 94/100 [6:08:50<23:31, 235.32s/it]"
     ]
    },
    {
     "name": "stdout",
     "output_type": "stream",
     "text": [
      " Epoch :     95     batch: 500/1060    T2 :- Generator loss:     0.9998%     Descriminator loss :     0.1006% \n",
      " Epoch :     95     batch: 1000/1060    T2 :- Generator loss:     0.9956%     Descriminator loss :     0.0206% \n",
      "=> Saving checkpoint\n",
      "=> Saving checkpoint\n",
      "=> Saving checkpoint\n",
      "=> Saving checkpoint\n"
     ]
    },
    {
     "name": "stderr",
     "output_type": "stream",
     "text": [
      " 95%|█████████▌| 95/100 [6:12:45<19:36, 235.37s/it]"
     ]
    },
    {
     "name": "stdout",
     "output_type": "stream",
     "text": [
      " Epoch :     96     batch: 500/1060    T2 :- Generator loss:     0.9940%     Descriminator loss :     0.0163% \n",
      " Epoch :     96     batch: 1000/1060    T2 :- Generator loss:     0.9951%     Descriminator loss :     0.0247% \n",
      "=> Saving checkpoint\n",
      "=> Saving checkpoint\n",
      "=> Saving checkpoint\n",
      "=> Saving checkpoint\n"
     ]
    },
    {
     "name": "stderr",
     "output_type": "stream",
     "text": [
      " 96%|█████████▌| 96/100 [6:16:41<15:41, 235.41s/it]"
     ]
    },
    {
     "name": "stdout",
     "output_type": "stream",
     "text": [
      " Epoch :     97     batch: 500/1060    T2 :- Generator loss:     0.9888%     Descriminator loss :     0.0294% \n",
      " Epoch :     97     batch: 1000/1060    T2 :- Generator loss:     0.9976%     Descriminator loss :     0.0247% \n",
      "=> Saving checkpoint\n",
      "=> Saving checkpoint\n",
      "=> Saving checkpoint\n",
      "=> Saving checkpoint\n"
     ]
    },
    {
     "name": "stderr",
     "output_type": "stream",
     "text": [
      " 97%|█████████▋| 97/100 [6:20:36<11:46, 235.38s/it]"
     ]
    },
    {
     "name": "stdout",
     "output_type": "stream",
     "text": [
      " Epoch :     98     batch: 500/1060    T2 :- Generator loss:     1.0000%     Descriminator loss :     0.0368% \n",
      " Epoch :     98     batch: 1000/1060    T2 :- Generator loss:     0.9926%     Descriminator loss :     0.0177% \n",
      "=> Saving checkpoint\n",
      "=> Saving checkpoint\n",
      "=> Saving checkpoint\n",
      "=> Saving checkpoint\n"
     ]
    },
    {
     "name": "stderr",
     "output_type": "stream",
     "text": [
      " 98%|█████████▊| 98/100 [6:24:32<07:50, 235.42s/it]"
     ]
    },
    {
     "name": "stdout",
     "output_type": "stream",
     "text": [
      " Epoch :     99     batch: 500/1060    T2 :- Generator loss:     0.9937%     Descriminator loss :     0.0133% \n",
      " Epoch :     99     batch: 1000/1060    T2 :- Generator loss:     0.9938%     Descriminator loss :     0.0110% \n",
      "=> Saving checkpoint\n",
      "=> Saving checkpoint\n",
      "=> Saving checkpoint\n",
      "=> Saving checkpoint\n"
     ]
    },
    {
     "name": "stderr",
     "output_type": "stream",
     "text": [
      " 99%|█████████▉| 99/100 [6:28:27<03:55, 235.40s/it]"
     ]
    },
    {
     "name": "stdout",
     "output_type": "stream",
     "text": [
      " Epoch :    100     batch: 500/1060    T2 :- Generator loss:     0.9999%     Descriminator loss :     0.0533% \n",
      " Epoch :    100     batch: 1000/1060    T2 :- Generator loss:     0.9909%     Descriminator loss :     0.0175% \n",
      "=> Saving checkpoint\n",
      "=> Saving checkpoint\n",
      "=> Saving checkpoint\n",
      "=> Saving checkpoint\n"
     ]
    },
    {
     "name": "stderr",
     "output_type": "stream",
     "text": [
      "100%|██████████| 100/100 [6:32:22<00:00, 235.43s/it]\n"
     ]
    }
   ],
   "source": [
    "genT1,genT2,discT1,discT2 = train_model(100,True)"
   ]
  }
 ],
 "metadata": {
  "kernelspec": {
   "display_name": "Python 3 (ipykernel)",
   "language": "python",
   "name": "python3"
  },
  "language_info": {
   "codemirror_mode": {
    "name": "ipython",
    "version": 3
   },
   "file_extension": ".py",
   "mimetype": "text/x-python",
   "name": "python",
   "nbconvert_exporter": "python",
   "pygments_lexer": "ipython3",
   "version": "3.9.13"
  },
  "papermill": {
   "default_parameters": {},
   "duration": 23590.136145,
   "end_time": "2022-11-13T19:07:14.221042",
   "environment_variables": {},
   "exception": null,
   "input_path": "__notebook__.ipynb",
   "output_path": "__notebook__.ipynb",
   "parameters": {},
   "start_time": "2022-11-13T12:34:04.084897",
   "version": "2.3.4"
  }
 },
 "nbformat": 4,
 "nbformat_minor": 5
}
